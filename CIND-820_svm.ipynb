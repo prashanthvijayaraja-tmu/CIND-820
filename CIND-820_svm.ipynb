{
 "cells": [
  {
   "cell_type": "code",
   "execution_count": 1,
   "id": "8cf64283",
   "metadata": {
    "_cell_guid": "b1076dfc-b9ad-4769-8c92-a6c4dae69d19",
    "_uuid": "8f2839f25d086af736a60e9eeb907d3b93b6e0e5",
    "execution": {
     "iopub.execute_input": "2023-10-10T09:24:35.587012Z",
     "iopub.status.busy": "2023-10-10T09:24:35.586682Z",
     "iopub.status.idle": "2023-10-10T09:24:38.521085Z",
     "shell.execute_reply": "2023-10-10T09:24:38.520125Z"
    },
    "papermill": {
     "duration": 2.940201,
     "end_time": "2023-10-10T09:24:38.523208",
     "exception": false,
     "start_time": "2023-10-10T09:24:35.583007",
     "status": "completed"
    },
    "tags": []
   },
   "outputs": [],
   "source": [
    "import pandas as pd\n",
    "import numpy as np\n",
    "import matplotlib.pyplot as plt\n",
    "from sklearn import svm\n",
    "from sklearn.metrics import accuracy_score,confusion_matrix,classification_report\n",
    "from sklearn.model_selection import train_test_split\n",
    "from sklearn.preprocessing import StandardScaler\n",
    "from sklearn.metrics import f1_score\n",
    "d=pd.read_csv(\"../Data/Cleandata.csv\")\n"
   ]
  },
  {
   "cell_type": "code",
   "execution_count": null,
   "id": "c456e92f",
   "metadata": {
    "execution": {
     "iopub.execute_input": "2023-10-10T09:24:38.528412Z",
     "iopub.status.busy": "2023-10-10T09:24:38.527833Z",
     "iopub.status.idle": "2023-10-10T11:30:32.151251Z",
     "shell.execute_reply": "2023-10-10T11:30:32.149924Z"
    },
    "papermill": {
     "duration": 7553.627976,
     "end_time": "2023-10-10T11:30:32.153256",
     "exception": false,
     "start_time": "2023-10-10T09:24:38.525280",
     "status": "completed"
    },
    "tags": []
   },
   "outputs": [],
   "source": [
    "from sklearn.model_selection import train_test_split, GridSearchCV\n",
    "x=d[['Year','Distance(mi)','TimeDiff','Temperature(F)','Wind_Chill(F)','Visibility(mi)','Traffic_Signal','Start_Lat','Start_Lng']]\n",
    "y=d['Severity']\n",
    "x_train,x_test,y_train,y_test=train_test_split(x,y,test_size=0.3,random_state=42)\n",
    "x_train_small = x_train[:5000]\n",
    "y_train_small = y_train[:5000]\n",
    "parameters = [{\"kernel\": [\"linear\", \"rbf\", \"sigmoid\"], \"C\": [.2, .5, .8, 1.]}, {\"kernel\": [\"poly\"], \"C\": [.2, .5, .8, 1.], \"degree\": [2, 3, 4]}]\n",
    "svc = svm.SVC(verbose = 0, random_state = 42, shrinking = False)\n",
    "grid = GridSearchCV(svc, parameters, verbose = 0, n_jobs = -1)\n",
    "\n",
    "grid.fit(x_train_small,y_train_small)\n",
    "print(\"Best parameters scores:\")\n",
    "print(grid.best_params_)\n",
    "best_params = grid.best_params_\n",
    "print(\"Train score: \", grid.score(x_train_small, y_train_small))"
   ]
  },
  {
   "cell_type": "code",
   "execution_count": 3,
   "id": "5d9b2f83",
   "metadata": {
    "execution": {
     "iopub.execute_input": "2023-10-10T11:30:32.158382Z",
     "iopub.status.busy": "2023-10-10T11:30:32.158088Z",
     "iopub.status.idle": "2023-10-10T11:38:33.949786Z",
     "shell.execute_reply": "2023-10-10T11:38:33.948505Z"
    },
    "papermill": {
     "duration": 481.796459,
     "end_time": "2023-10-10T11:38:33.951626",
     "exception": false,
     "start_time": "2023-10-10T11:30:32.155167",
     "status": "completed"
    },
    "tags": []
   },
   "outputs": [],
   "source": [
    "\n",
    "svc = svm.SVC(verbose = 0, random_state = 42, shrinking = False, C=0.5, kernel = 'linear')\n",
    "svc.fit(x_train, y_train)\n",
    "print(\"Train score:\", svc.score(x_train, y_train))\n",
    "print(\"Validation score:\", svc.score(x_test, y_test))"
   ]
  },
  {
   "cell_type": "code",
   "execution_count": null,
   "id": "d73c9063",
   "metadata": {
    "execution": {
     "iopub.execute_input": "2023-10-10T11:38:33.956695Z",
     "iopub.status.busy": "2023-10-10T11:38:33.956421Z",
     "iopub.status.idle": "2023-10-10T11:38:37.684198Z",
     "shell.execute_reply": "2023-10-10T11:38:37.683252Z"
    },
    "papermill": {
     "duration": 3.732554,
     "end_time": "2023-10-10T11:38:37.686213",
     "exception": false,
     "start_time": "2023-10-10T11:38:33.953659",
     "status": "completed"
    },
    "tags": []
   },
   "outputs": [],
   "source": [
    "y_pred = svc.predict(x_test)\n",
    "accuracy= accuracy_score(y_test, y_pred)\n",
    "conf = confusion_matrix(y_true=y_test, y_pred=y_pred)\n",
    "f1= f1_score(y_test, y_pred, average=\"macro\")"
   ]
  },
  {
   "cell_type": "code",
   "execution_count": null,
   "id": "23ecbfbf",
   "metadata": {
    "execution": {
     "iopub.execute_input": "2023-10-10T11:38:37.691315Z",
     "iopub.status.busy": "2023-10-10T11:38:37.691054Z",
     "iopub.status.idle": "2023-10-10T11:38:37.695695Z",
     "shell.execute_reply": "2023-10-10T11:38:37.694878Z"
    },
    "papermill": {
     "duration": 0.009124,
     "end_time": "2023-10-10T11:38:37.697480",
     "exception": false,
     "start_time": "2023-10-10T11:38:37.688356",
     "status": "completed"
    },
    "tags": []
   },
   "outputs": [
    {
     "name": "stdout",
     "output_type": "stream",
     "text": [
      "0.6816666666666666\n",
      "[[   0   10    0    0]\n",
      " [   0 7830   72    0]\n",
      " [   0 3735  350    0]\n",
      " [   0    2    1    0]]\n",
      "0.2398055526591944\n"
     ]
    }
   ],
   "source": [
    "print(accuracy)\n",
    "print(conf)\n",
    "print(f1)"
   ]
  }
 ],
 "metadata": {
  "kernelspec": {
   "display_name": "Python 3",
   "language": "python",
   "name": "python3"
  },
  "language_info": {
   "codemirror_mode": {
    "name": "ipython",
    "version": 3
   },
   "file_extension": ".py",
   "mimetype": "text/x-python",
   "name": "python",
   "nbconvert_exporter": "python",
   "pygments_lexer": "ipython3",
   "version": "3.10.12"
  },
  "papermill": {
   "default_parameters": {},
   "duration": 8047.597623,
   "end_time": "2023-10-10T11:38:40.325371",
   "environment_variables": {},
   "exception": null,
   "input_path": "__notebook__.ipynb",
   "output_path": "__notebook__.ipynb",
   "parameters": {},
   "start_time": "2023-10-10T09:24:32.727748",
   "version": "2.4.0"
  }
 },
 "nbformat": 4,
 "nbformat_minor": 5
}

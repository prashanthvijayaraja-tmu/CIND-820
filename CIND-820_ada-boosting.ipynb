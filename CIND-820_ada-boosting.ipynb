{
 "cells": [
  {
   "cell_type": "markdown",
   "metadata": {},
   "source": [
    "* <h3>Import Basic Libraries </h3>"
   ]
  },
  {
   "cell_type": "code",
   "execution_count": 1,
   "id": "78518a1a",
   "metadata": {
    "execution": {
     "iopub.execute_input": "2023-11-19T16:23:00.384411Z",
     "iopub.status.busy": "2023-11-19T16:23:00.383555Z",
     "iopub.status.idle": "2023-11-19T16:23:02.436150Z",
     "shell.execute_reply": "2023-11-19T16:23:02.434721Z"
    },
    "papermill": {
     "duration": 2.062413,
     "end_time": "2023-11-19T16:23:02.439021",
     "exception": false,
     "start_time": "2023-11-19T16:23:00.376608",
     "status": "completed"
    },
    "tags": []
   },
   "outputs": [],
   "source": [
    "import numpy as np\n",
    "import pandas as pd\n",
    "import matplotlib.pyplot as plt\n",
    "import seaborn as sns\n",
    "from sklearn.metrics import confusion_matrix\n",
    "from sklearn.metrics import classification_report\n",
    "from sklearn.metrics import accuracy_score\n",
    "from sklearn.model_selection import train_test_split\n",
    "from sklearn.model_selection import cross_val_score\n",
    "\n"
   ]
  },
  {
   "cell_type": "code",
   "execution_count": 2,
   "id": "abcfb2e2",
   "metadata": {
    "execution": {
     "iopub.execute_input": "2023-11-19T16:23:02.449637Z",
     "iopub.status.busy": "2023-11-19T16:23:02.449069Z",
     "iopub.status.idle": "2023-11-19T16:23:04.167749Z",
     "shell.execute_reply": "2023-11-19T16:23:04.166576Z"
    },
    "papermill": {
     "duration": 1.726648,
     "end_time": "2023-11-19T16:23:04.171102",
     "exception": false,
     "start_time": "2023-11-19T16:23:02.444454",
     "status": "completed"
    },
    "tags": []
   },
   "outputs": [],
   "source": [
    "import pandas as pd\n",
    "import numpy as np\n",
    "import matplotlib.pyplot as plt\n",
    "from sklearn import svm\n",
    "from sklearn.metrics import accuracy_score,confusion_matrix,classification_report\n",
    "from sklearn.model_selection import train_test_split\n",
    "from sklearn.preprocessing import StandardScaler\n",
    "d=pd.read_csv(\"../input/cleandata/Cleandata.csv\")"
   ]
  },
  {
   "cell_type": "code",
   "execution_count": 3,
   "id": "96470b30",
   "metadata": {
    "execution": {
     "iopub.execute_input": "2023-11-19T16:23:04.180313Z",
     "iopub.status.busy": "2023-11-19T16:23:04.179662Z",
     "iopub.status.idle": "2023-11-19T16:23:05.125991Z",
     "shell.execute_reply": "2023-11-19T16:23:05.124581Z"
    },
    "papermill": {
     "duration": 0.954172,
     "end_time": "2023-11-19T16:23:05.128941",
     "exception": false,
     "start_time": "2023-11-19T16:23:04.174769",
     "status": "completed"
    },
    "tags": []
   },
   "outputs": [],
   "source": [
    "from sklearn.model_selection import train_test_split\n",
    "from sklearn.preprocessing import StandardScaler\n",
    "from sklearn.preprocessing import LabelEncoder\n",
    "x = d.drop(columns=['City','Street','County','Airport_Code','Severity'])\n",
    "y=d['Severity']\n",
    "\n",
    "\n",
    "# Create a label encoder object\n",
    "le = LabelEncoder()\n",
    "\n",
    "# Iterate over all the values of each column and extract their dtypes\n",
    "for col in x.columns:\n",
    "    # Compare if the dtype is object\n",
    "    if x[col].dtype=='object':\n",
    "    # Use LabelEncoder to do the numeric transformation\n",
    "        x[col]=le.fit_transform(x[col])\n",
    "# Initialize the scaler\n",
    "scaler = StandardScaler()\n",
    "# Fit the scaler to the data and transform it\n",
    "x = scaler.fit_transform(x)\n",
    "x_train,x_test,y_train,y_test=train_test_split(x,y,test_size=0.3,random_state=42)"
   ]
  },
  {
   "cell_type": "markdown",
   "id": "243e5f42",
   "metadata": {
    "papermill": {
     "duration": 0.003096,
     "end_time": "2023-11-19T16:23:05.135649",
     "exception": false,
     "start_time": "2023-11-19T16:23:05.132553",
     "status": "completed"
    },
    "tags": []
   },
   "source": [
    "* <h3> Find best parameters of ADA Boosting Classifier using Grid Search </h3>"
   ]
  },
  {
   "cell_type": "code",
   "execution_count": 4,
   "id": "02dda78a",
   "metadata": {
    "execution": {
     "iopub.execute_input": "2023-11-19T16:23:05.144000Z",
     "iopub.status.busy": "2023-11-19T16:23:05.143629Z",
     "iopub.status.idle": "2023-11-19T16:53:44.442582Z",
     "shell.execute_reply": "2023-11-19T16:53:44.441304Z"
    },
    "papermill": {
     "duration": 1839.309307,
     "end_time": "2023-11-19T16:53:44.448197",
     "exception": false,
     "start_time": "2023-11-19T16:23:05.138890",
     "status": "completed"
    },
    "tags": []
   },
   "outputs": [
    {
     "name": "stdout",
     "output_type": "stream",
     "text": [
      "Best parameters:  {'learning_rate': 0.1, 'n_estimators': 100}\n",
      "Best score:  0.6498165924225551\n"
     ]
    }
   ],
   "source": [
    "from sklearn.model_selection import GridSearchCV\n",
    "from sklearn.ensemble import AdaBoostClassifier\n",
    "from sklearn.metrics import classification_report\n",
    "# Define the parameter grid\n",
    "param_grid = {\n",
    "    'n_estimators': [10, 50, 100, 200],\n",
    "    'learning_rate': [0.01, 0.1, 1.0]\n",
    "}\n",
    "\n",
    "# Initialize the model\n",
    "ada = AdaBoostClassifier(random_state=42)\n",
    "\n",
    "# Initialize Grid Search\n",
    "grid = GridSearchCV(ada, param_grid, cv=5, scoring='accuracy')\n",
    "\n",
    "# Fit the model\n",
    "grid.fit(x_train, y_train)\n",
    "\n",
    "# Print the best parameters and the best score\n",
    "print(\"Best parameters: \", grid.best_params_)\n",
    "print(\"Best score: \", grid.best_score_)\n"
   ]
  },
  {
   "cell_type": "markdown",
   "id": "f81b1c57",
   "metadata": {
    "papermill": {
     "duration": 0.003063,
     "end_time": "2023-11-19T16:53:44.454619",
     "exception": false,
     "start_time": "2023-11-19T16:53:44.451556",
     "status": "completed"
    },
    "tags": []
   },
   "source": [
    "* <h3> Train model using best performing parameters"
   ]
  },
  {
   "cell_type": "code",
   "execution_count": 5,
   "id": "766cc74a",
   "metadata": {
    "execution": {
     "iopub.execute_input": "2023-11-19T16:53:44.462876Z",
     "iopub.status.busy": "2023-11-19T16:53:44.462482Z",
     "iopub.status.idle": "2023-11-19T16:54:29.066710Z",
     "shell.execute_reply": "2023-11-19T16:54:29.065593Z"
    },
    "papermill": {
     "duration": 44.611164,
     "end_time": "2023-11-19T16:54:29.068917",
     "exception": false,
     "start_time": "2023-11-19T16:53:44.457753",
     "status": "completed"
    },
    "tags": []
   },
   "outputs": [
    {
     "name": "stderr",
     "output_type": "stream",
     "text": [
      "/opt/conda/lib/python3.10/site-packages/sklearn/metrics/_classification.py:1344: UndefinedMetricWarning: Precision and F-score are ill-defined and being set to 0.0 in labels with no predicted samples. Use `zero_division` parameter to control this behavior.\n",
      "  _warn_prf(average, modifier, msg_start, len(result))\n",
      "/opt/conda/lib/python3.10/site-packages/sklearn/metrics/_classification.py:1344: UndefinedMetricWarning: Precision and F-score are ill-defined and being set to 0.0 in labels with no predicted samples. Use `zero_division` parameter to control this behavior.\n",
      "  _warn_prf(average, modifier, msg_start, len(result))\n",
      "/opt/conda/lib/python3.10/site-packages/sklearn/metrics/_classification.py:1344: UndefinedMetricWarning: Precision and F-score are ill-defined and being set to 0.0 in labels with no predicted samples. Use `zero_division` parameter to control this behavior.\n",
      "  _warn_prf(average, modifier, msg_start, len(result))\n"
     ]
    },
    {
     "name": "stdout",
     "output_type": "stream",
     "text": [
      "              precision    recall  f1-score   support\n",
      "\n",
      "           1       0.00      0.00      0.00        35\n",
      "           2       0.66      0.93      0.77     59003\n",
      "           3       0.60      0.22      0.32     30754\n",
      "           4       0.00      0.00      0.00      4494\n",
      "\n",
      "    accuracy                           0.65     94286\n",
      "   macro avg       0.32      0.29      0.27     94286\n",
      "weighted avg       0.61      0.65      0.59     94286\n",
      "\n"
     ]
    },
    {
     "data": {
      "image/png": "[encoded data removed]",
      "text/plain": [
       "<Figure size 500x500 with 2 Axes>"
      ]
     },
     "metadata": {},
     "output_type": "display_data"
    }
   ],
   "source": [
    "best_params = grid.best_params_\n",
    "ada_best = AdaBoostClassifier(n_estimators=best_params['n_estimators'], learning_rate=best_params['learning_rate'], random_state=42)\n",
    "\n",
    "# Fit the model with the best parameters\n",
    "ada_best.fit(x_train, y_train)\n",
    "\n",
    "# Predict on the test set\n",
    "y_pred = ada_best.predict(x_test)\n",
    "\n",
    "# Print the classification report\n",
    "print(classification_report(y_test, y_pred))\n",
    "# Plot a confusion matrix\n",
    "cm = confusion_matrix(y_test, y_pred)\n",
    "plt.figure(figsize=(5,5))\n",
    "sns.heatmap(cm, annot=True, fmt=\".3f\", linewidths=.5, square = True, cmap = 'Blues_r');\n",
    "plt.ylabel('Actual label');\n",
    "plt.xlabel('Predicted label');\n",
    "all_sample_title = 'Accuracy Score: {0}'.format(accuracy_score(y_test, y_pred))\n",
    "plt.title(all_sample_title, size = 15);\n",
    "plt.savefig('Graphs/ADA.png')\n",
    "plt.show()"
   ]
  }
 ],
 "metadata": {
  "kaggle": {
   "accelerator": "none",
   "dataSources": [
    {
     "datasetId": 3832822,
     "sourceId": 6639183,
     "sourceType": "datasetVersion"
    },
    {
     "datasetId": 3833508,
     "sourceId": 6640464,
     "sourceType": "datasetVersion"
    }
   ],
   "dockerImageVersionId": 30587,
   "isGpuEnabled": false,
   "isInternetEnabled": true,
   "language": "python",
   "sourceType": "notebook"
  },
  "kernelspec": {
   "display_name": "Python 3",
   "language": "python",
   "name": "python3"
  },
  "language_info": {
   "codemirror_mode": {
    "name": "ipython",
    "version": 3
   },
   "file_extension": ".py",
   "mimetype": "text/x-python",
   "name": "python",
   "nbconvert_exporter": "python",
   "pygments_lexer": "ipython3",
   "version": "3.10.12"
  },
  "papermill": {
   "default_parameters": {},
   "duration": 1892.711082,
   "end_time": "2023-11-19T16:54:29.698153",
   "environment_variables": {},
   "exception": null,
   "input_path": "__notebook__.ipynb",
   "output_path": "__notebook__.ipynb",
   "parameters": {},
   "start_time": "2023-11-19T16:22:56.987071",
   "version": "2.4.0"
  }
 },
 "nbformat": 4,
 "nbformat_minor": 5
}

{
  "metadata": {
    "kernelspec": {
      "language": "python",
      "display_name": "Python 3",
      "name": "python3"
    },
    "language_info": {
      "name": "python",
      "version": "3.10.12",
      "mimetype": "text/x-python",
      "codemirror_mode": {
        "name": "ipython",
        "version": 3
      },
      "pygments_lexer": "ipython3",
      "nbconvert_exporter": "python",
      "file_extension": ".py"
    },
    "kaggle": {
      "accelerator": "none",
      "dataSources": [
        {
          "sourceId": 6998650,
          "sourceType": "datasetVersion",
          "datasetId": 4023218
        }
      ],
      "dockerImageVersionId": 30587,
      "isInternetEnabled": false,
      "language": "python",
      "sourceType": "notebook",
      "isGpuEnabled": false
    },
    "colab": {
      "provenance": []
    }
  },
  "nbformat_minor": 0,
  "nbformat": 4,
  "cells": [
    {
      "cell_type": "code",
      "source": [
        "# # This Python 3 environment comes with many helpful analytics libraries installed\n",
        "# # It is defined by the kaggle/python Docker image: https://github.com/kaggle/docker-python\n",
        "# # For example, here's several helpful packages to load\n",
        "\n",
        "# import numpy as np # linear algebra\n",
        "# import pandas as pd # data processing, CSV file I/O (e.g. pd.read_csv)\n",
        "\n",
        "# # Input data files are available in the read-only \"../input/\" directory\n",
        "# # For example, running this (by clicking run or pressing Shift+Enter) will list all files under the input directory\n",
        "\n",
        "# import os\n",
        "# for dirname, _, filenames in os.walk('/kaggle/input'):\n",
        "#     for filename in filenames:\n",
        "#         print(os.path.join(dirname, filename))\n",
        "\n",
        "# # You can write up to 20GB to the current directory (/kaggle/working/) that gets preserved as output when you create a version using \"Save & Run All\"\n",
        "# # You can also write temporary files to /kaggle/temp/, but they won't be saved outside of the current session"
      ],
      "metadata": {
        "_uuid": "8f2839f25d086af736a60e9eeb907d3b93b6e0e5",
        "_cell_guid": "b1076dfc-b9ad-4769-8c92-a6c4dae69d19",
        "trusted": true,
        "id": "2hE0AlikHqIW"
      },
      "execution_count": null,
      "outputs": []
    },
    {
      "cell_type": "code",
      "source": [
        "#importing the dataset and libraries\n",
        "\n",
        "import numpy as np\n",
        "import pandas as pd\n",
        "import matplotlib.pyplot as plt\n",
        "import seaborn as sn\n",
        "from scipy.stats import median_abs_deviation\n",
        "from sklearn.impute import SimpleImputer\n",
        "from sklearn.model_selection import train_test_split\n",
        "from sklearn.preprocessing import StandardScaler\n",
        "from sklearn.metrics import confusion_matrix\n",
        "from sklearn.tree import DecisionTreeClassifier\n",
        "from sklearn.metrics import accuracy_score\n",
        "from sklearn.metrics import confusion_matrix\n",
        "from sklearn.metrics import classification_report\n",
        "from sklearn.model_selection import GridSearchCV\n",
        "from sklearn.ensemble import RandomForestClassifier\n",
        "from sklearn.metrics import accuracy_score, confusion_matrix, classification_report\n",
        "from collections import Counter\n",
        "import warnings\n",
        "warnings.filterwarnings('ignore')\n"
      ],
      "metadata": {
        "execution": {
          "iopub.status.busy": "2023-11-22T18:21:27.760238Z",
          "iopub.execute_input": "2023-11-22T18:21:27.760686Z",
          "iopub.status.idle": "2023-11-22T18:21:27.768962Z",
          "shell.execute_reply.started": "2023-11-22T18:21:27.760653Z",
          "shell.execute_reply": "2023-11-22T18:21:27.767511Z"
        },
        "trusted": true,
        "id": "-k9WEepnHqIY"
      },
      "execution_count": null,
      "outputs": []
    },
    {
      "cell_type": "code",
      "source": [
        "df = pd.read_csv(\"LabelEncoded.csv\")"
      ],
      "metadata": {
        "execution": {
          "iopub.status.busy": "2023-11-22T18:13:58.385031Z",
          "iopub.execute_input": "2023-11-22T18:13:58.385591Z",
          "iopub.status.idle": "2023-11-22T18:13:59.269681Z",
          "shell.execute_reply.started": "2023-11-22T18:13:58.385551Z",
          "shell.execute_reply": "2023-11-22T18:13:59.268497Z"
        },
        "trusted": true,
        "id": "smQLg41CHqIZ"
      },
      "execution_count": null,
      "outputs": []
    },
    {
      "cell_type": "code",
      "source": [
        "df"
      ],
      "metadata": {
        "execution": {
          "iopub.status.busy": "2023-11-20T03:50:42.024395Z",
          "iopub.execute_input": "2023-11-20T03:50:42.025117Z",
          "iopub.status.idle": "2023-11-20T03:50:42.065734Z",
          "shell.execute_reply.started": "2023-11-20T03:50:42.025081Z",
          "shell.execute_reply": "2023-11-20T03:50:42.064638Z"
        },
        "trusted": true,
        "colab": {
          "base_uri": "https://localhost:8080/",
          "height": 456
        },
        "id": "8bTd0xO6HqIZ",
        "outputId": "aecb2922-48bd-4182-d88c-8093af6e9b55"
      },
      "execution_count": null,
      "outputs": [
        {
          "output_type": "execute_result",
          "data": {
            "text/plain": [
              "        Unnamed: 0  Year  Severity  Start_Lat   Start_Lng  Distance(mi)  \\\n",
              "0                0     0         2  39.063148  -84.032608         0.010   \n",
              "1                1     0         3  39.747753  -84.205582         0.010   \n",
              "2                2     0         2  39.627781  -84.188354         0.010   \n",
              "3                3     0         3  40.100590  -82.925194         0.010   \n",
              "4                4     0         2  39.758274  -84.230507         0.000   \n",
              "...            ...   ...       ...        ...         ...           ...   \n",
              "314280      314280     1         2  28.879630  -82.092960         0.722   \n",
              "314281      314281     1         2  37.993881  -92.795869         0.000   \n",
              "314282      314282     1         2  46.617235 -113.051251         0.000   \n",
              "314283      314283     1         4  46.672100 -113.153690         9.486   \n",
              "314284      314284     1         3  34.344290 -118.504950         0.430   \n",
              "\n",
              "        Street  City  County  State  Airport_Code  Temperature(F)  \\\n",
              "0        41040  7564     261     33           813            36.0   \n",
              "1        23281  1663     832     33           432            35.1   \n",
              "2        27444  1663     832     33          1052            36.0   \n",
              "3        46765  7468     434     33           351            37.9   \n",
              "4        30356  1663     832     33           432            34.0   \n",
              "...        ...   ...     ...    ...           ...             ...   \n",
              "314280   23281  7556    1213      8          1684            80.0   \n",
              "314281   41642   940     183     22           731            75.0   \n",
              "314282   43111  1827     487     24            30            89.0   \n",
              "314283   43111  1827     487     24            30            57.0   \n",
              "314284   11847  4792     718      3            29            85.0   \n",
              "\n",
              "        Wind_Chill(F)  Visibility(mi)  Wind_Direction  Weather_Condition  \\\n",
              "0                33.3            10.0              15                 57   \n",
              "1                31.0             9.0              15                 54   \n",
              "2                33.3             6.0              15                 54   \n",
              "3                35.5             7.0              14                 40   \n",
              "4                31.0             7.0              21                 57   \n",
              "...               ...             ...             ...                ...   \n",
              "314280           80.0            10.0              17                 44   \n",
              "314281           75.0            10.0               5                  4   \n",
              "314282           89.0             3.0              13                 13   \n",
              "314283           57.0             4.0               0                 13   \n",
              "314284           85.0            10.0               0                  8   \n",
              "\n",
              "        Traffic_Signal  Sunrise_Sunset  TimeDiff  \n",
              "0                    1               1      30.0  \n",
              "1                    0               1      30.0  \n",
              "2                    1               0      30.0  \n",
              "3                    0               0      30.0  \n",
              "4                    0               0      30.0  \n",
              "...                ...             ...       ...  \n",
              "314280               0               0     360.0  \n",
              "314281               0               0     360.0  \n",
              "314282               0               0     360.0  \n",
              "314283               0               1     360.0  \n",
              "314284               0               0     360.0  \n",
              "\n",
              "[314285 rows x 19 columns]"
            ],
            "text/html": [
              "\n",
              "  <div id=\"df-f09676f9-1006-4c9d-ae86-3d648e9cc58a\" class=\"colab-df-container\">\n",
              "    <div>\n",
              "<style scoped>\n",
              "    .dataframe tbody tr th:only-of-type {\n",
              "        vertical-align: middle;\n",
              "    }\n",
              "\n",
              "    .dataframe tbody tr th {\n",
              "        vertical-align: top;\n",
              "    }\n",
              "\n",
              "    .dataframe thead th {\n",
              "        text-align: right;\n",
              "    }\n",
              "</style>\n",
              "<table border=\"1\" class=\"dataframe\">\n",
              "  <thead>\n",
              "    <tr style=\"text-align: right;\">\n",
              "      <th></th>\n",
              "      <th>Unnamed: 0</th>\n",
              "      <th>Year</th>\n",
              "      <th>Severity</th>\n",
              "      <th>Start_Lat</th>\n",
              "      <th>Start_Lng</th>\n",
              "      <th>Distance(mi)</th>\n",
              "      <th>Street</th>\n",
              "      <th>City</th>\n",
              "      <th>County</th>\n",
              "      <th>State</th>\n",
              "      <th>Airport_Code</th>\n",
              "      <th>Temperature(F)</th>\n",
              "      <th>Wind_Chill(F)</th>\n",
              "      <th>Visibility(mi)</th>\n",
              "      <th>Wind_Direction</th>\n",
              "      <th>Weather_Condition</th>\n",
              "      <th>Traffic_Signal</th>\n",
              "      <th>Sunrise_Sunset</th>\n",
              "      <th>TimeDiff</th>\n",
              "    </tr>\n",
              "  </thead>\n",
              "  <tbody>\n",
              "    <tr>\n",
              "      <th>0</th>\n",
              "      <td>0</td>\n",
              "      <td>0</td>\n",
              "      <td>2</td>\n",
              "      <td>39.063148</td>\n",
              "      <td>-84.032608</td>\n",
              "      <td>0.010</td>\n",
              "      <td>41040</td>\n",
              "      <td>7564</td>\n",
              "      <td>261</td>\n",
              "      <td>33</td>\n",
              "      <td>813</td>\n",
              "      <td>36.0</td>\n",
              "      <td>33.3</td>\n",
              "      <td>10.0</td>\n",
              "      <td>15</td>\n",
              "      <td>57</td>\n",
              "      <td>1</td>\n",
              "      <td>1</td>\n",
              "      <td>30.0</td>\n",
              "    </tr>\n",
              "    <tr>\n",
              "      <th>1</th>\n",
              "      <td>1</td>\n",
              "      <td>0</td>\n",
              "      <td>3</td>\n",
              "      <td>39.747753</td>\n",
              "      <td>-84.205582</td>\n",
              "      <td>0.010</td>\n",
              "      <td>23281</td>\n",
              "      <td>1663</td>\n",
              "      <td>832</td>\n",
              "      <td>33</td>\n",
              "      <td>432</td>\n",
              "      <td>35.1</td>\n",
              "      <td>31.0</td>\n",
              "      <td>9.0</td>\n",
              "      <td>15</td>\n",
              "      <td>54</td>\n",
              "      <td>0</td>\n",
              "      <td>1</td>\n",
              "      <td>30.0</td>\n",
              "    </tr>\n",
              "    <tr>\n",
              "      <th>2</th>\n",
              "      <td>2</td>\n",
              "      <td>0</td>\n",
              "      <td>2</td>\n",
              "      <td>39.627781</td>\n",
              "      <td>-84.188354</td>\n",
              "      <td>0.010</td>\n",
              "      <td>27444</td>\n",
              "      <td>1663</td>\n",
              "      <td>832</td>\n",
              "      <td>33</td>\n",
              "      <td>1052</td>\n",
              "      <td>36.0</td>\n",
              "      <td>33.3</td>\n",
              "      <td>6.0</td>\n",
              "      <td>15</td>\n",
              "      <td>54</td>\n",
              "      <td>1</td>\n",
              "      <td>0</td>\n",
              "      <td>30.0</td>\n",
              "    </tr>\n",
              "    <tr>\n",
              "      <th>3</th>\n",
              "      <td>3</td>\n",
              "      <td>0</td>\n",
              "      <td>3</td>\n",
              "      <td>40.100590</td>\n",
              "      <td>-82.925194</td>\n",
              "      <td>0.010</td>\n",
              "      <td>46765</td>\n",
              "      <td>7468</td>\n",
              "      <td>434</td>\n",
              "      <td>33</td>\n",
              "      <td>351</td>\n",
              "      <td>37.9</td>\n",
              "      <td>35.5</td>\n",
              "      <td>7.0</td>\n",
              "      <td>14</td>\n",
              "      <td>40</td>\n",
              "      <td>0</td>\n",
              "      <td>0</td>\n",
              "      <td>30.0</td>\n",
              "    </tr>\n",
              "    <tr>\n",
              "      <th>4</th>\n",
              "      <td>4</td>\n",
              "      <td>0</td>\n",
              "      <td>2</td>\n",
              "      <td>39.758274</td>\n",
              "      <td>-84.230507</td>\n",
              "      <td>0.000</td>\n",
              "      <td>30356</td>\n",
              "      <td>1663</td>\n",
              "      <td>832</td>\n",
              "      <td>33</td>\n",
              "      <td>432</td>\n",
              "      <td>34.0</td>\n",
              "      <td>31.0</td>\n",
              "      <td>7.0</td>\n",
              "      <td>21</td>\n",
              "      <td>57</td>\n",
              "      <td>0</td>\n",
              "      <td>0</td>\n",
              "      <td>30.0</td>\n",
              "    </tr>\n",
              "    <tr>\n",
              "      <th>...</th>\n",
              "      <td>...</td>\n",
              "      <td>...</td>\n",
              "      <td>...</td>\n",
              "      <td>...</td>\n",
              "      <td>...</td>\n",
              "      <td>...</td>\n",
              "      <td>...</td>\n",
              "      <td>...</td>\n",
              "      <td>...</td>\n",
              "      <td>...</td>\n",
              "      <td>...</td>\n",
              "      <td>...</td>\n",
              "      <td>...</td>\n",
              "      <td>...</td>\n",
              "      <td>...</td>\n",
              "      <td>...</td>\n",
              "      <td>...</td>\n",
              "      <td>...</td>\n",
              "      <td>...</td>\n",
              "    </tr>\n",
              "    <tr>\n",
              "      <th>314280</th>\n",
              "      <td>314280</td>\n",
              "      <td>1</td>\n",
              "      <td>2</td>\n",
              "      <td>28.879630</td>\n",
              "      <td>-82.092960</td>\n",
              "      <td>0.722</td>\n",
              "      <td>23281</td>\n",
              "      <td>7556</td>\n",
              "      <td>1213</td>\n",
              "      <td>8</td>\n",
              "      <td>1684</td>\n",
              "      <td>80.0</td>\n",
              "      <td>80.0</td>\n",
              "      <td>10.0</td>\n",
              "      <td>17</td>\n",
              "      <td>44</td>\n",
              "      <td>0</td>\n",
              "      <td>0</td>\n",
              "      <td>360.0</td>\n",
              "    </tr>\n",
              "    <tr>\n",
              "      <th>314281</th>\n",
              "      <td>314281</td>\n",
              "      <td>1</td>\n",
              "      <td>2</td>\n",
              "      <td>37.993881</td>\n",
              "      <td>-92.795869</td>\n",
              "      <td>0.000</td>\n",
              "      <td>41642</td>\n",
              "      <td>940</td>\n",
              "      <td>183</td>\n",
              "      <td>22</td>\n",
              "      <td>731</td>\n",
              "      <td>75.0</td>\n",
              "      <td>75.0</td>\n",
              "      <td>10.0</td>\n",
              "      <td>5</td>\n",
              "      <td>4</td>\n",
              "      <td>0</td>\n",
              "      <td>0</td>\n",
              "      <td>360.0</td>\n",
              "    </tr>\n",
              "    <tr>\n",
              "      <th>314282</th>\n",
              "      <td>314282</td>\n",
              "      <td>1</td>\n",
              "      <td>2</td>\n",
              "      <td>46.617235</td>\n",
              "      <td>-113.051251</td>\n",
              "      <td>0.000</td>\n",
              "      <td>43111</td>\n",
              "      <td>1827</td>\n",
              "      <td>487</td>\n",
              "      <td>24</td>\n",
              "      <td>30</td>\n",
              "      <td>89.0</td>\n",
              "      <td>89.0</td>\n",
              "      <td>3.0</td>\n",
              "      <td>13</td>\n",
              "      <td>13</td>\n",
              "      <td>0</td>\n",
              "      <td>0</td>\n",
              "      <td>360.0</td>\n",
              "    </tr>\n",
              "    <tr>\n",
              "      <th>314283</th>\n",
              "      <td>314283</td>\n",
              "      <td>1</td>\n",
              "      <td>4</td>\n",
              "      <td>46.672100</td>\n",
              "      <td>-113.153690</td>\n",
              "      <td>9.486</td>\n",
              "      <td>43111</td>\n",
              "      <td>1827</td>\n",
              "      <td>487</td>\n",
              "      <td>24</td>\n",
              "      <td>30</td>\n",
              "      <td>57.0</td>\n",
              "      <td>57.0</td>\n",
              "      <td>4.0</td>\n",
              "      <td>0</td>\n",
              "      <td>13</td>\n",
              "      <td>0</td>\n",
              "      <td>1</td>\n",
              "      <td>360.0</td>\n",
              "    </tr>\n",
              "    <tr>\n",
              "      <th>314284</th>\n",
              "      <td>314284</td>\n",
              "      <td>1</td>\n",
              "      <td>3</td>\n",
              "      <td>34.344290</td>\n",
              "      <td>-118.504950</td>\n",
              "      <td>0.430</td>\n",
              "      <td>11847</td>\n",
              "      <td>4792</td>\n",
              "      <td>718</td>\n",
              "      <td>3</td>\n",
              "      <td>29</td>\n",
              "      <td>85.0</td>\n",
              "      <td>85.0</td>\n",
              "      <td>10.0</td>\n",
              "      <td>0</td>\n",
              "      <td>8</td>\n",
              "      <td>0</td>\n",
              "      <td>0</td>\n",
              "      <td>360.0</td>\n",
              "    </tr>\n",
              "  </tbody>\n",
              "</table>\n",
              "<p>314285 rows × 19 columns</p>\n",
              "</div>\n",
              "    <div class=\"colab-df-buttons\">\n",
              "\n",
              "  <div class=\"colab-df-container\">\n",
              "    <button class=\"colab-df-convert\" onclick=\"convertToInteractive('df-f09676f9-1006-4c9d-ae86-3d648e9cc58a')\"\n",
              "            title=\"Convert this dataframe to an interactive table.\"\n",
              "            style=\"display:none;\">\n",
              "\n",
              "  <svg xmlns=\"http://www.w3.org/2000/svg\" height=\"24px\" viewBox=\"0 -960 960 960\">\n",
              "    <path d=\"M120-120v-720h720v720H120Zm60-500h600v-160H180v160Zm220 220h160v-160H400v160Zm0 220h160v-160H400v160ZM180-400h160v-160H180v160Zm440 0h160v-160H620v160ZM180-180h160v-160H180v160Zm440 0h160v-160H620v160Z\"/>\n",
              "  </svg>\n",
              "    </button>\n",
              "\n",
              "  <style>\n",
              "    .colab-df-container {\n",
              "      display:flex;\n",
              "      gap: 12px;\n",
              "    }\n",
              "\n",
              "    .colab-df-convert {\n",
              "      background-color: #E8F0FE;\n",
              "      border: none;\n",
              "      border-radius: 50%;\n",
              "      cursor: pointer;\n",
              "      display: none;\n",
              "      fill: #1967D2;\n",
              "      height: 32px;\n",
              "      padding: 0 0 0 0;\n",
              "      width: 32px;\n",
              "    }\n",
              "\n",
              "    .colab-df-convert:hover {\n",
              "      background-color: #E2EBFA;\n",
              "      box-shadow: 0px 1px 2px rgba(60, 64, 67, 0.3), 0px 1px 3px 1px rgba(60, 64, 67, 0.15);\n",
              "      fill: #174EA6;\n",
              "    }\n",
              "\n",
              "    .colab-df-buttons div {\n",
              "      margin-bottom: 4px;\n",
              "    }\n",
              "\n",
              "    [theme=dark] .colab-df-convert {\n",
              "      background-color: #3B4455;\n",
              "      fill: #D2E3FC;\n",
              "    }\n",
              "\n",
              "    [theme=dark] .colab-df-convert:hover {\n",
              "      background-color: #434B5C;\n",
              "      box-shadow: 0px 1px 3px 1px rgba(0, 0, 0, 0.15);\n",
              "      filter: drop-shadow(0px 1px 2px rgba(0, 0, 0, 0.3));\n",
              "      fill: #FFFFFF;\n",
              "    }\n",
              "  </style>\n",
              "\n",
              "    <script>\n",
              "      const buttonEl =\n",
              "        document.querySelector('#df-f09676f9-1006-4c9d-ae86-3d648e9cc58a button.colab-df-convert');\n",
              "      buttonEl.style.display =\n",
              "        google.colab.kernel.accessAllowed ? 'block' : 'none';\n",
              "\n",
              "      async function convertToInteractive(key) {\n",
              "        const element = document.querySelector('#df-f09676f9-1006-4c9d-ae86-3d648e9cc58a');\n",
              "        const dataTable =\n",
              "          await google.colab.kernel.invokeFunction('convertToInteractive',\n",
              "                                                    [key], {});\n",
              "        if (!dataTable) return;\n",
              "\n",
              "        const docLinkHtml = 'Like what you see? Visit the ' +\n",
              "          '<a target=\"_blank\" href=https://colab.research.google.com/notebooks/data_table.ipynb>data table notebook</a>'\n",
              "          + ' to learn more about interactive tables.';\n",
              "        element.innerHTML = '';\n",
              "        dataTable['output_type'] = 'display_data';\n",
              "        await google.colab.output.renderOutput(dataTable, element);\n",
              "        const docLink = document.createElement('div');\n",
              "        docLink.innerHTML = docLinkHtml;\n",
              "        element.appendChild(docLink);\n",
              "      }\n",
              "    </script>\n",
              "  </div>\n",
              "\n",
              "\n",
              "<div id=\"df-e2951e92-3271-4a79-9f75-224d0a0734fa\">\n",
              "  <button class=\"colab-df-quickchart\" onclick=\"quickchart('df-e2951e92-3271-4a79-9f75-224d0a0734fa')\"\n",
              "            title=\"Suggest charts\"\n",
              "            style=\"display:none;\">\n",
              "\n",
              "<svg xmlns=\"http://www.w3.org/2000/svg\" height=\"24px\"viewBox=\"0 0 24 24\"\n",
              "     width=\"24px\">\n",
              "    <g>\n",
              "        <path d=\"M19 3H5c-1.1 0-2 .9-2 2v14c0 1.1.9 2 2 2h14c1.1 0 2-.9 2-2V5c0-1.1-.9-2-2-2zM9 17H7v-7h2v7zm4 0h-2V7h2v10zm4 0h-2v-4h2v4z\"/>\n",
              "    </g>\n",
              "</svg>\n",
              "  </button>\n",
              "\n",
              "<style>\n",
              "  .colab-df-quickchart {\n",
              "      --bg-color: #E8F0FE;\n",
              "      --fill-color: #1967D2;\n",
              "      --hover-bg-color: #E2EBFA;\n",
              "      --hover-fill-color: #174EA6;\n",
              "      --disabled-fill-color: #AAA;\n",
              "      --disabled-bg-color: #DDD;\n",
              "  }\n",
              "\n",
              "  [theme=dark] .colab-df-quickchart {\n",
              "      --bg-color: #3B4455;\n",
              "      --fill-color: #D2E3FC;\n",
              "      --hover-bg-color: #434B5C;\n",
              "      --hover-fill-color: #FFFFFF;\n",
              "      --disabled-bg-color: #3B4455;\n",
              "      --disabled-fill-color: #666;\n",
              "  }\n",
              "\n",
              "  .colab-df-quickchart {\n",
              "    background-color: var(--bg-color);\n",
              "    border: none;\n",
              "    border-radius: 50%;\n",
              "    cursor: pointer;\n",
              "    display: none;\n",
              "    fill: var(--fill-color);\n",
              "    height: 32px;\n",
              "    padding: 0;\n",
              "    width: 32px;\n",
              "  }\n",
              "\n",
              "  .colab-df-quickchart:hover {\n",
              "    background-color: var(--hover-bg-color);\n",
              "    box-shadow: 0 1px 2px rgba(60, 64, 67, 0.3), 0 1px 3px 1px rgba(60, 64, 67, 0.15);\n",
              "    fill: var(--button-hover-fill-color);\n",
              "  }\n",
              "\n",
              "  .colab-df-quickchart-complete:disabled,\n",
              "  .colab-df-quickchart-complete:disabled:hover {\n",
              "    background-color: var(--disabled-bg-color);\n",
              "    fill: var(--disabled-fill-color);\n",
              "    box-shadow: none;\n",
              "  }\n",
              "\n",
              "  .colab-df-spinner {\n",
              "    border: 2px solid var(--fill-color);\n",
              "    border-color: transparent;\n",
              "    border-bottom-color: var(--fill-color);\n",
              "    animation:\n",
              "      spin 1s steps(1) infinite;\n",
              "  }\n",
              "\n",
              "  @keyframes spin {\n",
              "    0% {\n",
              "      border-color: transparent;\n",
              "      border-bottom-color: var(--fill-color);\n",
              "      border-left-color: var(--fill-color);\n",
              "    }\n",
              "    20% {\n",
              "      border-color: transparent;\n",
              "      border-left-color: var(--fill-color);\n",
              "      border-top-color: var(--fill-color);\n",
              "    }\n",
              "    30% {\n",
              "      border-color: transparent;\n",
              "      border-left-color: var(--fill-color);\n",
              "      border-top-color: var(--fill-color);\n",
              "      border-right-color: var(--fill-color);\n",
              "    }\n",
              "    40% {\n",
              "      border-color: transparent;\n",
              "      border-right-color: var(--fill-color);\n",
              "      border-top-color: var(--fill-color);\n",
              "    }\n",
              "    60% {\n",
              "      border-color: transparent;\n",
              "      border-right-color: var(--fill-color);\n",
              "    }\n",
              "    80% {\n",
              "      border-color: transparent;\n",
              "      border-right-color: var(--fill-color);\n",
              "      border-bottom-color: var(--fill-color);\n",
              "    }\n",
              "    90% {\n",
              "      border-color: transparent;\n",
              "      border-bottom-color: var(--fill-color);\n",
              "    }\n",
              "  }\n",
              "</style>\n",
              "\n",
              "  <script>\n",
              "    async function quickchart(key) {\n",
              "      const quickchartButtonEl =\n",
              "        document.querySelector('#' + key + ' button');\n",
              "      quickchartButtonEl.disabled = true;  // To prevent multiple clicks.\n",
              "      quickchartButtonEl.classList.add('colab-df-spinner');\n",
              "      try {\n",
              "        const charts = await google.colab.kernel.invokeFunction(\n",
              "            'suggestCharts', [key], {});\n",
              "      } catch (error) {\n",
              "        console.error('Error during call to suggestCharts:', error);\n",
              "      }\n",
              "      quickchartButtonEl.classList.remove('colab-df-spinner');\n",
              "      quickchartButtonEl.classList.add('colab-df-quickchart-complete');\n",
              "    }\n",
              "    (() => {\n",
              "      let quickchartButtonEl =\n",
              "        document.querySelector('#df-e2951e92-3271-4a79-9f75-224d0a0734fa button');\n",
              "      quickchartButtonEl.style.display =\n",
              "        google.colab.kernel.accessAllowed ? 'block' : 'none';\n",
              "    })();\n",
              "  </script>\n",
              "</div>\n",
              "    </div>\n",
              "  </div>\n"
            ],
            "application/vnd.google.colaboratory.intrinsic+json": {
              "type": "dataframe",
              "variable_name": "df"
            }
          },
          "metadata": {},
          "execution_count": 3
        }
      ]
    },
    {
      "cell_type": "code",
      "source": [
        "df.info()"
      ],
      "metadata": {
        "execution": {
          "iopub.status.busy": "2023-11-20T03:50:44.766354Z",
          "iopub.execute_input": "2023-11-20T03:50:44.766765Z",
          "iopub.status.idle": "2023-11-20T03:50:44.795943Z",
          "shell.execute_reply.started": "2023-11-20T03:50:44.766732Z",
          "shell.execute_reply": "2023-11-20T03:50:44.794848Z"
        },
        "trusted": true,
        "colab": {
          "base_uri": "https://localhost:8080/"
        },
        "id": "kidEHsiHHqIa",
        "outputId": "e75346ea-a4c6-4cc3-e6ad-0b25a05f6292"
      },
      "execution_count": null,
      "outputs": [
        {
          "output_type": "stream",
          "name": "stdout",
          "text": [
            "<class 'pandas.core.frame.DataFrame'>\n",
            "RangeIndex: 314285 entries, 0 to 314284\n",
            "Data columns (total 19 columns):\n",
            " #   Column             Non-Null Count   Dtype  \n",
            "---  ------             --------------   -----  \n",
            " 0   Unnamed: 0         314285 non-null  int64  \n",
            " 1   Year               314285 non-null  int64  \n",
            " 2   Severity           314285 non-null  int64  \n",
            " 3   Start_Lat          314285 non-null  float64\n",
            " 4   Start_Lng          314285 non-null  float64\n",
            " 5   Distance(mi)       314285 non-null  float64\n",
            " 6   Street             314285 non-null  int64  \n",
            " 7   City               314285 non-null  int64  \n",
            " 8   County             314285 non-null  int64  \n",
            " 9   State              314285 non-null  int64  \n",
            " 10  Airport_Code       314285 non-null  int64  \n",
            " 11  Temperature(F)     314285 non-null  float64\n",
            " 12  Wind_Chill(F)      314285 non-null  float64\n",
            " 13  Visibility(mi)     314285 non-null  float64\n",
            " 14  Wind_Direction     314285 non-null  int64  \n",
            " 15  Weather_Condition  314285 non-null  int64  \n",
            " 16  Traffic_Signal     314285 non-null  int64  \n",
            " 17  Sunrise_Sunset     314285 non-null  int64  \n",
            " 18  TimeDiff           314285 non-null  float64\n",
            "dtypes: float64(7), int64(12)\n",
            "memory usage: 45.6 MB\n"
          ]
        }
      ]
    },
    {
      "cell_type": "code",
      "source": [
        "df = df.drop(columns=['Unnamed: 0'])"
      ],
      "metadata": {
        "execution": {
          "iopub.status.busy": "2023-11-22T18:14:02.633348Z",
          "iopub.execute_input": "2023-11-22T18:14:02.633747Z",
          "iopub.status.idle": "2023-11-22T18:14:02.667527Z",
          "shell.execute_reply.started": "2023-11-22T18:14:02.633715Z",
          "shell.execute_reply": "2023-11-22T18:14:02.666326Z"
        },
        "trusted": true,
        "id": "DBMLQdvcHqIa"
      },
      "execution_count": null,
      "outputs": []
    },
    {
      "cell_type": "code",
      "source": [
        "df.info()"
      ],
      "metadata": {
        "execution": {
          "iopub.status.busy": "2023-11-18T21:52:02.233875Z",
          "iopub.execute_input": "2023-11-18T21:52:02.234323Z",
          "iopub.status.idle": "2023-11-18T21:52:02.255108Z",
          "shell.execute_reply.started": "2023-11-18T21:52:02.234290Z",
          "shell.execute_reply": "2023-11-18T21:52:02.254140Z"
        },
        "trusted": true,
        "colab": {
          "base_uri": "https://localhost:8080/"
        },
        "id": "Dk6XG-M5HqIa",
        "outputId": "c90b66bb-fd6a-47f0-e5eb-039a31a3408a"
      },
      "execution_count": null,
      "outputs": [
        {
          "output_type": "stream",
          "name": "stdout",
          "text": [
            "<class 'pandas.core.frame.DataFrame'>\n",
            "RangeIndex: 314285 entries, 0 to 314284\n",
            "Data columns (total 18 columns):\n",
            " #   Column             Non-Null Count   Dtype  \n",
            "---  ------             --------------   -----  \n",
            " 0   Year               314285 non-null  int64  \n",
            " 1   Severity           314285 non-null  int64  \n",
            " 2   Start_Lat          314285 non-null  float64\n",
            " 3   Start_Lng          314285 non-null  float64\n",
            " 4   Distance(mi)       314285 non-null  float64\n",
            " 5   Street             314285 non-null  int64  \n",
            " 6   City               314285 non-null  int64  \n",
            " 7   County             314285 non-null  int64  \n",
            " 8   State              314285 non-null  int64  \n",
            " 9   Airport_Code       314285 non-null  int64  \n",
            " 10  Temperature(F)     314285 non-null  float64\n",
            " 11  Wind_Chill(F)      314285 non-null  float64\n",
            " 12  Visibility(mi)     314285 non-null  float64\n",
            " 13  Wind_Direction     314285 non-null  int64  \n",
            " 14  Weather_Condition  314285 non-null  int64  \n",
            " 15  Traffic_Signal     314285 non-null  int64  \n",
            " 16  Sunrise_Sunset     314285 non-null  int64  \n",
            " 17  TimeDiff           314285 non-null  float64\n",
            "dtypes: float64(7), int64(11)\n",
            "memory usage: 43.2 MB\n"
          ]
        }
      ]
    },
    {
      "cell_type": "code",
      "source": [
        "#splitting the dataset and fitting the scaler\n",
        "\n",
        "y = df['Severity']\n",
        "X = df.drop('Severity', axis=1)\n",
        "\n",
        "sc = StandardScaler()\n",
        "\n",
        "X_train, X_test, y_train, y_test = train_test_split(X, y, test_size = 0.2, random_state = 1)\n",
        "\n",
        "X_train  = sc.fit_transform(X_train)\n",
        "X_test = sc.transform(X_test)"
      ],
      "metadata": {
        "execution": {
          "iopub.status.busy": "2023-11-22T18:14:06.054846Z",
          "iopub.execute_input": "2023-11-22T18:14:06.055566Z",
          "iopub.status.idle": "2023-11-22T18:14:06.255936Z",
          "shell.execute_reply.started": "2023-11-22T18:14:06.055522Z",
          "shell.execute_reply": "2023-11-22T18:14:06.255084Z"
        },
        "trusted": true,
        "id": "3TmmPksvHqIb"
      },
      "execution_count": null,
      "outputs": []
    },
    {
      "cell_type": "code",
      "source": [
        "\n",
        "Tree = DecisionTreeClassifier()\n",
        "Tree = Tree.fit(X_train, y_train)\n",
        "\n",
        "y_pred = Tree.predict(X_test)\n",
        "print(\"Tree accuracy: \", accuracy_score(y_test,y_pred)*100)\n",
        "\n",
        "print(\"Train Accuracy:\", Tree.score(X_train, y_train))\n",
        "print(\"Test Accuracy:\", Tree.score(X_test, y_test))"
      ],
      "metadata": {
        "execution": {
          "iopub.status.busy": "2023-11-22T18:14:55.208360Z",
          "iopub.execute_input": "2023-11-22T18:14:55.208740Z",
          "iopub.status.idle": "2023-11-22T18:14:59.869643Z",
          "shell.execute_reply.started": "2023-11-22T18:14:55.208707Z",
          "shell.execute_reply": "2023-11-22T18:14:59.868314Z"
        },
        "trusted": true,
        "colab": {
          "base_uri": "https://localhost:8080/"
        },
        "id": "gnElglk7HqIc",
        "outputId": "4a4a9f5c-ad72-4315-de4c-0b6ab2a458d5"
      },
      "execution_count": null,
      "outputs": [
        {
          "output_type": "stream",
          "name": "stdout",
          "text": [
            "Tree accuracy:  79.25290739297135\n",
            "Train Accuracy: 0.9998965906740697\n",
            "Test Accuracy: 0.7925290739297135\n"
          ]
        }
      ]
    },
    {
      "cell_type": "code",
      "source": [
        "#Train decision trees using gini criteria\n",
        "\n",
        "giniTree = DecisionTreeClassifier(criterion = \"gini\", splitter = \"random\", random_state = 42)\n",
        "giniTree = giniTree.fit(X_train, y_train)\n",
        "\n",
        "y_pred = giniTree.predict(X_test)\n",
        "print(\"Gini Tree accuracy: \", accuracy_score(y_test,y_pred)*100)\n",
        "\n",
        "print(\"Train Accuracy:\", giniTree.score(X_train, y_train))\n",
        "print(\"Test Accuracy:\", giniTree.score(X_test, y_test))"
      ],
      "metadata": {
        "execution": {
          "iopub.status.busy": "2023-11-22T18:15:07.913554Z",
          "iopub.execute_input": "2023-11-22T18:15:07.913970Z",
          "iopub.status.idle": "2023-11-22T18:15:09.450906Z",
          "shell.execute_reply.started": "2023-11-22T18:15:07.913936Z",
          "shell.execute_reply": "2023-11-22T18:15:09.449767Z"
        },
        "trusted": true,
        "colab": {
          "base_uri": "https://localhost:8080/"
        },
        "id": "o_-DCo-LHqId",
        "outputId": "7519a7aa-79df-402b-ccd2-37fb97bc512c"
      },
      "execution_count": null,
      "outputs": [
        {
          "output_type": "stream",
          "name": "stdout",
          "text": [
            "Gini Tree accuracy:  78.6292696119764\n",
            "Train Accuracy: 0.9998965906740697\n",
            "Test Accuracy: 0.7862926961197639\n"
          ]
        }
      ]
    },
    {
      "cell_type": "code",
      "source": [
        "#Train decision trees using entropy criteria\n",
        "\n",
        "entropyTree = DecisionTreeClassifier(criterion = \"entropy\", splitter = \"random\", random_state = 42)\n",
        "entropyTree = entropyTree.fit(X_train, y_train)\n",
        "\n",
        "y_pred = entropyTree.predict(X_test)\n",
        "print(\"Entropy Tree accuracy: \", accuracy_score(y_test,y_pred)*100)\n",
        "print(\"Train Accuracy:\", entropyTree.score(X_train, y_train))\n",
        "print(\"Test Accuracy:\", entropyTree.score(X_test, y_test))"
      ],
      "metadata": {
        "execution": {
          "iopub.status.busy": "2023-11-22T18:23:56.075368Z",
          "iopub.execute_input": "2023-11-22T18:23:56.075789Z",
          "iopub.status.idle": "2023-11-22T18:23:57.353188Z",
          "shell.execute_reply.started": "2023-11-22T18:23:56.075759Z",
          "shell.execute_reply": "2023-11-22T18:23:57.352023Z"
        },
        "trusted": true,
        "colab": {
          "base_uri": "https://localhost:8080/"
        },
        "id": "9paaMCZUHqIe",
        "outputId": "4aa63309-b945-479e-fb66-e461c1edaade"
      },
      "execution_count": null,
      "outputs": [
        {
          "output_type": "stream",
          "name": "stdout",
          "text": [
            "Entropy Tree accuracy:  78.54813306393879\n",
            "Train Accuracy: 0.9998965906740697\n",
            "Test Accuracy: 0.7854813306393879\n"
          ]
        }
      ]
    },
    {
      "cell_type": "code",
      "source": [
        "rf = RandomForestClassifier(criterion = \"gini\")\n",
        "rf = rf.fit(X_train, y_train)\n",
        "\n",
        "# Predict on the test set\n",
        "best_test_pred = rf.predict(X_test)\n",
        "print('Accuracy on training set: ', rf.score(X_train, y_train))\n",
        "print('Accuracy on the test set: ', accuracy_score(y_test, best_test_pred))\n",
        "print()\n",
        "\n",
        "print(\"Classification Report\")\n",
        "print(classification_report(y_test, best_test_pred))\n",
        "print()\n",
        "\n"
      ],
      "metadata": {
        "execution": {
          "iopub.status.busy": "2023-11-22T19:15:58.949395Z",
          "iopub.execute_input": "2023-11-22T19:15:58.950070Z",
          "iopub.status.idle": "2023-11-22T19:17:26.047325Z",
          "shell.execute_reply.started": "2023-11-22T19:15:58.949998Z",
          "shell.execute_reply": "2023-11-22T19:17:26.046282Z"
        },
        "trusted": true,
        "colab": {
          "base_uri": "https://localhost:8080/"
        },
        "id": "nJOKM4ZxHqIf",
        "outputId": "c11bfdc4-f628-4875-b22c-5bc1ad75739d"
      },
      "execution_count": null,
      "outputs": [
        {
          "output_type": "stream",
          "name": "stdout",
          "text": [
            "Accuracy on training set:  0.9998965906740697\n",
            "Accuracy on the test set:  0.8647087834290532\n",
            "\n",
            "Classification Report\n",
            "              precision    recall  f1-score   support\n",
            "\n",
            "           1       0.00      0.00      0.00        16\n",
            "           2       0.87      0.93      0.90     39430\n",
            "           3       0.85      0.78      0.81     20470\n",
            "           4       0.81      0.63      0.71      2941\n",
            "\n",
            "    accuracy                           0.86     62857\n",
            "   macro avg       0.63      0.58      0.61     62857\n",
            "weighted avg       0.86      0.86      0.86     62857\n",
            "\n",
            "\n"
          ]
        }
      ]
    },
    {
      "cell_type": "code",
      "source": [
        "print(\"Confusion Matrix\")\n",
        "# Plot a confusion matrix\n",
        "cm = confusion_matrix(y_test, best_test_pred)\n",
        "plt.figure(figsize=(5,5))\n",
        "sn.heatmap(cm, annot=True, fmt=\".3f\", linewidths=.5, square = True, cmap = 'Blues_r');\n",
        "plt.ylabel('Actual label');\n",
        "plt.xlabel('Predicted label');\n",
        "all_sample_title = 'Accuracy Score: {0}'.format(accuracy_score(y_test, best_test_pred))\n",
        "plt.title(all_sample_title, size = 15);\n",
        "plt.savefig('MLP.png')\n",
        "plt.show()"
      ],
      "metadata": {
        "execution": {
          "iopub.status.busy": "2023-11-22T18:59:20.334031Z",
          "iopub.execute_input": "2023-11-22T18:59:20.334904Z",
          "iopub.status.idle": "2023-11-22T18:59:20.806357Z",
          "shell.execute_reply.started": "2023-11-22T18:59:20.334864Z",
          "shell.execute_reply": "2023-11-22T18:59:20.803609Z"
        },
        "trusted": true,
        "colab": {
          "base_uri": "https://localhost:8080/",
          "height": 447
        },
        "id": "E4rb5WC_HqIf",
        "outputId": "a9e82661-b289-4166-98fc-0fe934806bf1"
      },
      "execution_count": null,
      "outputs": [
        {
          "output_type": "stream",
          "name": "stdout",
          "text": [
            "Confusion Matrix\n"
          ]
        },
        {
          "output_type": "display_data",
          "data": {
            "text/plain": [
              "<Figure size 500x500 with 2 Axes>"
            ],
            "image/png": "[encoded data removed]"
          },
          "metadata": {}
        }
      ]
    },
    {
      "cell_type": "code",
      "source": [
        "rf = RandomForestClassifier(criterion = \"entropy\")\n",
        "rf = rf.fit(X_train, y_train)\n",
        "\n",
        "# Predict on the test set\n",
        "best_test_pred = rf.predict(X_test)\n",
        "print('Accuracy on training set: ', rf.score(X_train, y_train))\n",
        "print('Accuracy on the test set: ', accuracy_score(y_test, best_test_pred))\n",
        "print()\n",
        "\n",
        "print(\"Classification Report\")\n",
        "print(classification_report(y_test, best_test_pred))\n",
        "print()"
      ],
      "metadata": {
        "execution": {
          "iopub.status.busy": "2023-11-22T19:19:02.671681Z",
          "iopub.execute_input": "2023-11-22T19:19:02.672143Z",
          "iopub.status.idle": "2023-11-22T19:20:36.863024Z",
          "shell.execute_reply.started": "2023-11-22T19:19:02.672110Z",
          "shell.execute_reply": "2023-11-22T19:20:36.862037Z"
        },
        "trusted": true,
        "colab": {
          "base_uri": "https://localhost:8080/"
        },
        "id": "jMttqoX3HqIf",
        "outputId": "8eb3427a-c0bd-4987-80ef-afcde17f1b3e"
      },
      "execution_count": null,
      "outputs": [
        {
          "output_type": "stream",
          "name": "stdout",
          "text": [
            "Accuracy on training set:  0.9998846588287701\n",
            "Accuracy on the test set:  0.8653610576387674\n",
            "\n",
            "Classification Report\n",
            "              precision    recall  f1-score   support\n",
            "\n",
            "           1       0.00      0.00      0.00        16\n",
            "           2       0.88      0.93      0.90     39430\n",
            "           3       0.85      0.78      0.82     20470\n",
            "           4       0.79      0.64      0.71      2941\n",
            "\n",
            "    accuracy                           0.87     62857\n",
            "   macro avg       0.63      0.59      0.61     62857\n",
            "weighted avg       0.86      0.87      0.86     62857\n",
            "\n",
            "\n"
          ]
        }
      ]
    },
    {
      "cell_type": "code",
      "source": [
        "print(\"Confusion Matrix\")\n",
        "# Plot a confusion matrix\n",
        "cm = confusion_matrix(y_test, best_test_pred)\n",
        "plt.figure(figsize=(5,5))\n",
        "sn.heatmap(cm, annot=True, fmt=\".3f\", linewidths=.5, square = True, cmap = 'Blues_r');\n",
        "plt.ylabel('Actual label');\n",
        "plt.xlabel('Predicted label');\n",
        "all_sample_title = 'Accuracy Score: {0}'.format(accuracy_score(y_test, best_test_pred))\n",
        "plt.title(all_sample_title, size = 15);\n",
        "plt.savefig('MLP.png')\n",
        "plt.show()"
      ],
      "metadata": {
        "execution": {
          "iopub.status.busy": "2023-11-22T19:21:41.138531Z",
          "iopub.execute_input": "2023-11-22T19:21:41.139102Z",
          "iopub.status.idle": "2023-11-22T19:21:41.586093Z",
          "shell.execute_reply.started": "2023-11-22T19:21:41.139058Z",
          "shell.execute_reply": "2023-11-22T19:21:41.585054Z"
        },
        "trusted": true,
        "colab": {
          "base_uri": "https://localhost:8080/",
          "height": 447
        },
        "id": "nc8o3K97HqIg",
        "outputId": "df012b87-e6f9-42ac-e14d-cea0abde0471"
      },
      "execution_count": null,
      "outputs": [
        {
          "output_type": "stream",
          "name": "stdout",
          "text": [
            "Confusion Matrix\n"
          ]
        },
        {
          "output_type": "display_data",
          "data": {
            "text/plain": [
              "<Figure size 500x500 with 2 Axes>"
            ],
            "image/png": "[encoded data removed]"
          },
          "metadata": {}
        }
      ]
    },
    {
      "cell_type": "code",
      "source": [
        "dt = DecisionTreeClassifier(criterion = \"gini\")\n",
        "\n",
        "grid = {'min_samples_split': [1, 5, 10, 50, 100, 500, 1000, 2000, 5000],\n",
        "        'max_features': [1, 5, 9, 10, 11, 12, 15, 18]}\n",
        "\n",
        "\n",
        "grid = GridSearchCV(dt, param_grid = grid, cv = 5)\n",
        "newGrid = grid.fit(X_train, y_train)\n",
        "\n",
        "print('Best hyperparameters are: '+str(newGrid.best_params_))\n",
        "print('Best score is: '+str(newGrid.best_score_*100))"
      ],
      "metadata": {
        "execution": {
          "iopub.status.busy": "2023-11-18T21:56:31.101333Z",
          "iopub.execute_input": "2023-11-18T21:56:31.101730Z",
          "iopub.status.idle": "2023-11-18T21:58:57.816080Z",
          "shell.execute_reply.started": "2023-11-18T21:56:31.101701Z",
          "shell.execute_reply": "2023-11-18T21:58:57.814544Z"
        },
        "trusted": true,
        "colab": {
          "base_uri": "https://localhost:8080/"
        },
        "id": "aNfLUW4YHqIg",
        "outputId": "e3aa0ffa-a54b-44d3-e8ca-d52e3d967693"
      },
      "execution_count": null,
      "outputs": [
        {
          "output_type": "stream",
          "name": "stdout",
          "text": [
            "Best hyperparameters are: {'max_features': 10, 'min_samples_split': 50}\n",
            "Best score is: 80.30926919043259\n"
          ]
        }
      ]
    },
    {
      "cell_type": "code",
      "source": [
        "dt = DecisionTreeClassifier(criterion = \"entropy\")\n",
        "\n",
        "grid = {'min_samples_split': [1, 5, 10, 50, 100, 500, 1000, 2000, 5000],\n",
        "        'max_features': [1, 5, 9, 10, 11, 12, 15, 18]}\n",
        "\n",
        "grid = GridSearchCV(dt, param_grid = grid, cv = 5)\n",
        "newGrid = grid.fit(X_train, y_train)\n",
        "\n",
        "print('Best hyperparameters are: '+str(newGrid.best_params_))\n",
        "print('Best score is: '+str(newGrid.best_score_*100))"
      ],
      "metadata": {
        "colab": {
          "base_uri": "https://localhost:8080/"
        },
        "id": "H6c-GZGFHqIg",
        "outputId": "74f5bce0-4d30-4df9-adaa-013431267a76"
      },
      "execution_count": null,
      "outputs": [
        {
          "output_type": "stream",
          "name": "stdout",
          "text": [
            "Best hyperparameters are: {'max_features': 11, 'min_samples_split': 50}\n",
            "Best score is: 80.94404815828622\n"
          ]
        }
      ]
    },
    {
      "cell_type": "code",
      "source": [
        "rf = RandomForestClassifier(criterion = \"gini\")\n",
        "grid = {'n_estimators': [100, 200, 500, 1000],\n",
        "        'max_depth': [1, 10, 20, 100, 500],\n",
        "        'min_samples_split': [1, 2, 5, 10, 20, 100, 500]}\n",
        "\n",
        "grid = GridSearchCV(rf, param_grid = grid, cv=5)\n",
        "newGrid = grid.fit(X_train, y_train)\n",
        "\n",
        "print('Best hyperparameters are: '+str(newGrid.best_params_))\n",
        "print('Best score is: '+str(newGrid.best_score_*100))"
      ],
      "metadata": {
        "id": "KUIyy_hWHqIg"
      },
      "execution_count": null,
      "outputs": []
    },
    {
      "cell_type": "code",
      "source": [
        "rf = RandomForestClassifier(criterion = \"entropy\")\n",
        "\n",
        "grid = {'n_estimators': [100, 200, 500, 1000],\n",
        "        'max_depth': [1, 10, 20, 100, 500],\n",
        "        'min_samples_split': [1, 2, 5, 10, 20, 100, 500]}\n",
        "\n",
        "grid = GridSearchCV(rf, param_grid = grid, cv=5)\n",
        "newGrid = grid.fit(X_train, y_train)\n",
        "\n",
        "print('Best hyperparameters are: '+str(newGrid.best_params_))\n",
        "print('Best score is: '+str(newGrid.best_score_*100))"
      ],
      "metadata": {
        "id": "iJPHzyNXHqIh"
      },
      "execution_count": null,
      "outputs": []
    }
  ]
}